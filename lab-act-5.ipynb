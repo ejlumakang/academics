{
  "nbformat": 4,
  "nbformat_minor": 0,
  "metadata": {
    "colab": {
      "provenance": [],
      "authorship_tag": "ABX9TyNt0JoHb2pQC03cINCN8gmh"
    },
    "kernelspec": {
      "name": "python3",
      "display_name": "Python 3"
    },
    "language_info": {
      "name": "python"
    }
  },
  "cells": [
    {
      "cell_type": "markdown",
      "source": [
        "# Part-Of-Speech (POS) Tagging"
      ],
      "metadata": {
        "id": "wCAOitMYqXgd"
      }
    },
    {
      "cell_type": "code",
      "source": [
        "# EXTRACT NOUN POS TYPE\n",
        "import spacy\n",
        "\n",
        "# Read file\n",
        "with open('samplenews.txt','r') as f:\n",
        "    \tnews_text = f.read()\n",
        "\n",
        "# Load the model\n",
        "nlp = spacy.load('en_core_web_sm')\n",
        "doc = nlp(news_text)\n",
        "\n",
        "# Empty list to store nouns\n",
        "nouns = []\n",
        "\n",
        "# Extract noun tokens\n",
        "for token in doc:\n",
        "  if token.pos_ == \"NOUN\":\n",
        "    nouns.append(token.text)\n",
        "\n",
        "# Print list of nouns\n",
        "print(nouns)"
      ],
      "metadata": {
        "colab": {
          "base_uri": "https://localhost:8080/",
          "height": 850
        },
        "id": "6C_j7iJFoF3d",
        "outputId": "0f5594a9-dac8-4ed4-854d-6b665f57d201"
      },
      "execution_count": null,
      "outputs": [
        {
          "output_type": "display_data",
          "data": {
            "text/plain": [
              "['Title',\n",
              " 'technology',\n",
              " 'firm',\n",
              " 'investment',\n",
              " 'intelligence',\n",
              " 'research',\n",
              " 'development',\n",
              " 'years',\n",
              " 'company',\n",
              " 'research',\n",
              " 'hub',\n",
              " 'jobs',\n",
              " 'region',\n",
              " 'investment',\n",
              " 'commitment',\n",
              " 'potential',\n",
              " 'world',\n",
              " 'problems',\n",
              " 'focus',\n",
              " 'healthcare',\n",
              " 'applications',\n",
              " 'sustainability',\n",
              " 'announcement',\n",
              " 'enthusiasm',\n",
              " 'tech',\n",
              " 'community',\n",
              " 'experts',\n",
              " 'step',\n",
              " 'innovation',\n",
              " 'critics',\n",
              " 'concerns',\n",
              " 'data',\n",
              " 'privacy',\n",
              " 'implications',\n",
              " 'technologies',\n",
              " 'phase',\n",
              " 'project',\n",
              " 'completion',\n",
              " 'talent',\n",
              " 'partnerships',\n",
              " 'universities',\n",
              " 'Shares',\n",
              " '%',\n",
              " 'news',\n",
              " 'investor',\n",
              " 'confidence',\n",
              " 'company',\n",
              " 'plans']"
            ]
          },
          "metadata": {}
        }
      ]
    },
    {
      "cell_type": "code",
      "source": [
        "# EXTRACT NUM POS TYPE\n",
        "\n",
        "# Empty list to store numbers\n",
        "numbers = []\n",
        "\n",
        "# Extract number tokens\n",
        "for token in doc:\n",
        "  if token.pos_ == \"NUM\":\n",
        "    numbers.append(token.text)\n",
        "\n",
        "# Print list of numbers\n",
        "print(numbers)"
      ],
      "metadata": {
        "colab": {
          "base_uri": "https://localhost:8080/",
          "height": 34
        },
        "id": "iKPEphvrrkkd",
        "outputId": "1b6becb7-8f64-4a46-fb54-17ae50975145"
      },
      "execution_count": null,
      "outputs": [
        {
          "output_type": "display_data",
          "data": {
            "text/plain": [
              "['2', 'Billion', '25', '2024', '2', 'billion', 'five', '5,000', '2026', '3.5']"
            ]
          },
          "metadata": {}
        }
      ]
    },
    {
      "cell_type": "code",
      "source": [
        "# COUNT ALL POS TYPE\n",
        "\n",
        "# Count occurrences of POS tags in spacy\n",
        "count = doc.count_by(spacy.attrs.POS)\n",
        "doc.vocab[96].text\n",
        "\n",
        "# Count each POS tags\n",
        "for k, v in count.items():\n",
        "  print(doc.vocab[k].text, '|', v)"
      ],
      "metadata": {
        "colab": {
          "base_uri": "https://localhost:8080/"
        },
        "id": "NpINRCTRsMDF",
        "outputId": "1a6332a3-776a-432c-c9ce-7a3361dcc0d6"
      },
      "execution_count": null,
      "outputs": [
        {
          "output_type": "stream",
          "name": "stdout",
          "text": [
            "NOUN | 48\n",
            "PUNCT | 26\n",
            "PROPN | 23\n",
            "VERB | 22\n",
            "SYM | 2\n",
            "NUM | 10\n",
            "ADP | 27\n",
            "SPACE | 6\n",
            "PRON | 6\n",
            "DET | 16\n",
            "ADJ | 12\n",
            "CCONJ | 6\n",
            "PART | 4\n",
            "AUX | 6\n",
            "ADV | 3\n"
          ]
        }
      ]
    }
  ]
}