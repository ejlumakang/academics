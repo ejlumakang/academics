{
  "nbformat": 4,
  "nbformat_minor": 0,
  "metadata": {
    "colab": {
      "provenance": [],
      "authorship_tag": "ABX9TyOns9X0jEXpBySo7Q1Cn1kR"
    },
    "kernelspec": {
      "name": "python3",
      "display_name": "Python 3"
    },
    "language_info": {
      "name": "python"
    }
  },
  "cells": [
    {
      "cell_type": "code",
      "source": [
        "import numpy as np\n",
        "\n",
        "# Define a simple vocabulary with translations and their frequencies\n",
        "translations = {\n",
        "    'good morning': {'translation': 'magandang umaga', 'frequency': 7},\n",
        "    'good afternoon': {'translation': 'magandang tanghali', 'frequency': 5},\n",
        "    'good evening': {'translation': 'magandang gabi', 'frequency': 3},\n",
        "    'good day': {'translation': 'magandang araw', 'frequency': 10},\n",
        "    'good bye': {'translation': 'paalam', 'frequency': 4},\n",
        "    'thank you': {'translation': 'salamat', 'frequency': 9},\n",
        "    'how are you': {'translation': 'kamusta ka', 'frequency': 2},\n",
        "    'youre welcome': {'translation': 'walang anuman', 'frequency': 5},\n",
        "    'im sorry': {'translation': 'pasensya', 'frequency': 12},\n",
        "    'take care': {'translation': 'ingat', 'frequency': 4},\n",
        "}\n",
        "\n",
        "# Function to calculate probabilities\n",
        "def calculate_probabilities(translations):\n",
        "    total_frequency = sum(item['frequency'] for item in translations.values())\n",
        "    for phrase, info in translations.items():\n",
        "        info['probability'] = info['frequency'] / total_frequency\n",
        "    return translations\n",
        "\n",
        "# Function to translate a sentence\n",
        "def translate_sentence(sentence):\n",
        "  words = sentence.split()\n",
        "  translated_phrases = []\n",
        "\n",
        "  # Check for phrases and translate\n",
        "  for phrase in translations.keys():\n",
        "    if phrase in sentence:\n",
        "      translated_phrases.append((translations[phrase]['translation'], translations[phrase]['probability']))\n",
        "\n",
        "  # Sort by probability\n",
        "  translated_phrases.sort(key=lambda x: x[1], reverse=True)\n",
        "\n",
        "  # Return the best translation (highest probability)\n",
        "  if translated_phrases:\n",
        "    return translated_phrases[0][0]\n",
        "  else:\n",
        "    return \"Translation not found.\"\n",
        "\n",
        "# Calculate probabilities\n",
        "translations = calculate_probabilities(translations)\n",
        "\n",
        "# User input\n",
        "while True:\n",
        "    user_input = input(\"Enter a phrase to translate: \").lower()\n",
        "    translation = translate_sentence(user_input)\n",
        "\n",
        "    # Display translation\n",
        "    print(f'Translation for \"{user_input.capitalize()}\": {translation.capitalize()}')\n",
        "\n",
        "    response = input(\"Translate again? (Y/N): \").lower()\n",
        "    if response != 'y':\n",
        "        break"
      ],
      "metadata": {
        "colab": {
          "base_uri": "https://localhost:8080/"
        },
        "id": "rKU6GtW3LXrg",
        "outputId": "cb08506b-e4e9-4ef9-896b-ce4b92d93d39"
      },
      "execution_count": null,
      "outputs": [
        {
          "name": "stdout",
          "output_type": "stream",
          "text": [
            "Enter a phrase to translate: thank you good day\n",
            "Translation for \"Thank you good day\": Magandang araw\n",
            "Translate again? (Y/N): n\n"
          ]
        }
      ]
    }
  ]
}