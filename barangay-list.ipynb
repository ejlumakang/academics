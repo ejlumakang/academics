{
  "nbformat": 4,
  "nbformat_minor": 0,
  "metadata": {
    "colab": {
      "provenance": [],
      "authorship_tag": "ABX9TyO4vvk/1RdzsDLLFYkfqFEY"
    },
    "kernelspec": {
      "name": "python3",
      "display_name": "Python 3"
    },
    "language_info": {
      "name": "python"
    }
  },
  "cells": [
    {
      "cell_type": "code",
      "source": [
        "from google.colab import drive\n",
        "drive.mount('/content/drive')"
      ],
      "metadata": {
        "colab": {
          "base_uri": "https://localhost:8080/"
        },
        "id": "L9ohNIF4JMpM",
        "outputId": "7d186342-cc41-47ee-ad4c-4c9a0e61517f"
      },
      "execution_count": null,
      "outputs": [
        {
          "output_type": "stream",
          "name": "stdout",
          "text": [
            "Mounted at /content/drive\n"
          ]
        }
      ]
    },
    {
      "cell_type": "code",
      "source": [
        "import numpy as np\n",
        "from pandas import Series, DataFrame\n",
        "import pandas as pd\n",
        "\n",
        "# Mount drive\n",
        "from google.colab import drive\n",
        "drive.mount('/content/drive/')\n",
        "\n",
        "# File path\n",
        "excel_file = '/content/drive/MyDrive/Colab Notebooks/machine learning/population.xlsx'\n",
        "\n",
        "# Read contents of excel file\n",
        "df = pd.read_excel(excel_file)\n",
        "\n",
        "# Rename columns and convert to numeric, replacing errors with 0\n",
        "df.columns = ['Name', 'Status', 'Population_A', 'Population_B', 'Population_C', 'Population_D']\n",
        "df[['Population_A', 'Population_B', 'Population_C', 'Population_D']] = df[['Population_A', 'Population_B', 'Population_C', 'Population_D']].apply(pd.to_numeric, errors='coerce').fillna(0).astype(int)\n",
        "\n",
        "# Display all data\n",
        "pd.set_option('display.max_rows', None)\n",
        "print(df)\n"
      ],
      "metadata": {
        "colab": {
          "base_uri": "https://localhost:8080/"
        },
        "id": "_VV48_2QGx0j",
        "outputId": "232ee2d5-86d8-4692-d6c3-c4099bac0125"
      },
      "execution_count": null,
      "outputs": [
        {
          "output_type": "stream",
          "name": "stdout",
          "text": [
            "Drive already mounted at /content/drive/; to attempt to forcibly remount, call drive.mount(\"/content/drive/\", force_remount=True).\n",
            "                            Name    Status  Population_A  Population_B  Population_C  Population_D\n",
            "0                          Burol  Barangay          5937          9526          8260         11902\n",
            "1                        Burol I  Barangay          6425         14912         15751         17287\n",
            "2                       Burol II  Barangay          4299          4442          4838          6025\n",
            "3                      Burol III  Barangay          5663          8473          9077         10921\n",
            "4     Datu Esmael (Bago-a-ingud)  Barangay         16726          9079         13112          7969\n",
            "5             Emmanuel Bergado I  Barangay          3982          6653          7386          8002\n",
            "6            Emmanuel Bergado II  Barangay          2389          2714          2982          2796\n",
            "7                       Fatima I  Barangay          5542          5855          6291          6782\n",
            "8                      Fatima II  Barangay          3617          3864          4023          4305\n",
            "9                     Fatima III  Barangay          2638          3658          3712          3684\n",
            "10                           H-2  Barangay             0          9182          9477          9306\n",
            "11                    Langkaan I  Barangay          6981         13629         21426         26939\n",
            "12                   Langkaan II  Barangay         13861         25350         30197         33651\n",
            "13                  Luzviminda I  Barangay          2565          3080          3285          3565\n",
            "14                 Luzviminda II  Barangay          3900          4346          4688          4868\n",
            "15                   Paliparan I  Barangay          2450          5971          7153         10125\n",
            "16                  Paliparan II  Barangay          8668         15233         17881         20804\n",
            "17                 Paliparan III  Barangay         41511         59838         68224         72945\n",
            "18                        Sabang  Barangay          7421         13332         14680         17329\n",
            "19                 Saint Peter I  Barangay          1991          2347          2553          2287\n",
            "20                Saint Peter II  Barangay          2091          2238          2462          2471\n",
            "21                       Salawag  Barangay         28994         61441         80136         78778\n",
            "22                    Salitran I  Barangay          3381          3694          5626          5158\n",
            "23                   Salitran II  Barangay          6070          9524         11371         12337\n",
            "24                  Salitran III  Barangay         10310         14681         14949         15396\n",
            "25                   Salitran IV  Barangay          4165          5984          8643         11819\n",
            "26                    Sampaloc I  Barangay          4181          5539          6612          7662\n",
            "27                   Sampaloc II  Barangay          6544         10170         14127         18225\n",
            "28                  Sampaloc III  Barangay          2710          8035         10469         13807\n",
            "29                   Sampaloc IV  Barangay          7085         35655         39950         41678\n",
            "30                    Sampaloc V  Barangay          3433          3146          3224          3252\n",
            "31                 San Agustin I  Barangay          7671          9523          8471         11971\n",
            "32                San Agustin II  Barangay          4566          9271         10514         11692\n",
            "33               San Agustin III  Barangay          6961         10046         10204         10178\n",
            "34                  San Andres I  Barangay          2889          3132          3173          4259\n",
            "35                 San Andres II  Barangay          2869          3294          3455          3405\n",
            "36        San Antonio De Padua I  Barangay          2695          3052          3110          3407\n",
            "37       San Antonio De Padua II  Barangay          2634          2880          3091          3062\n",
            "38     San Dionisio (Barangay 1)  Barangay          5526          6342          6980          6741\n",
            "39      San Esteban (Barangay 4)  Barangay          5232          4300          4219          4583\n",
            "40               San Francisco I  Barangay          2685          2732          3030          3099\n",
            "41              San Francisco II  Barangay          2772          3288          3495          3363\n",
            "42         San Isidro Labrador I  Barangay          4385          4278          5237          4834\n",
            "43        San Isidro Labrador II  Barangay          1888          2090          2194          2463\n",
            "44                      San Jose  Barangay          6670         10702          8955         11925\n",
            "45         San Juan (San Juan I)  Barangay          3212          3521          3612          3667\n",
            "46            San Lorenzo Ruiz I  Barangay          3012          3059          3190          3311\n",
            "47           San Lorenzo Ruiz II  Barangay          2951          3657          4109          4275\n",
            "48                    San Luis I  Barangay          3190          3417          3921          3963\n",
            "49                   San Luis II  Barangay          3439          4042          4524          4336\n",
            "50                  San Manuel I  Barangay          2690          2580          2703          2822\n",
            "51                 San Manuel II  Barangay          2632          2742          3037          2581\n",
            "52                     San Mateo  Barangay          4275          4512          4877          4950\n",
            "53                    San Miguel  Barangay          3692          3661          4240          4118\n",
            "54                 San Miguel II  Barangay          1909          2186          2390          2272\n",
            "55                 San Nicolas I  Barangay          1170          1937          2005          2071\n",
            "56                San Nicolas II  Barangay          2770          4595          4851          4576\n",
            "57  San Roque (Sta. Cristina II)  Barangay          2378          2623          2949          2855\n",
            "58        San Simon (Barangay 7)  Barangay         13598          7095          6909          6242\n",
            "59              Santa Cristina I  Barangay          2752          3237          3219          3307\n",
            "60             Santa Cristina II  Barangay          2861          3490          3782          3505\n",
            "61                  Santa Cruz I  Barangay          3844          4664          4864          5112\n",
            "62                 Santa Cruz II  Barangay          1981          2222          2323          2138\n",
            "63                      Santa Fe  Barangay          4028          6263          6750          6314\n",
            "64     Santa Lucia (San Juan II)  Barangay          4117          5762          6754          5534\n",
            "65     Santa Maria (Barangay 20)  Barangay          4197          4785          5135          5068\n",
            "66     Santo Cristo (Barangay 3)  Barangay          4179          4380          4635          4551\n",
            "67                  Santo Niño I  Barangay          2325          2693          2847          2859\n",
            "68                 Santo Niño II  Barangay          2169          2566          2736          2737\n",
            "69                Victoria Reyes  Barangay             0         14631         14248         13838\n",
            "70                        Zone I  Barangay          3143          3405          3756          4219\n",
            "71                      Zone I-B  Barangay          3468          4314          6263          5595\n",
            "72                       Zone II  Barangay           853          1104          1258          1677\n",
            "73                      Zone III  Barangay          1348          3206          5168          3821\n",
            "74                       Zone IV  Barangay          2364          2947          3271          3770\n",
            "75                    Dasmariñas      City        379520        575817        659019        703141\n"
          ]
        }
      ]
    },
    {
      "cell_type": "code",
      "source": [
        "# Barangay list of populations less than 10,000\n",
        "for col in ['Population_A', 'Population_B', 'Population_C', 'Population_D']:\n",
        "    df[col] = df[col].where(df[col] <= 10000, '')\n",
        "\n",
        "mask = (df['Population_A'] != '') | \\\n",
        "       (df['Population_B'] != '') | \\\n",
        "       (df['Population_C'] != '') | \\\n",
        "       (df['Population_D'] != '')\n",
        "\n",
        "# Apply the mask to filter the data frame\n",
        "filtered_df = df[mask]\n",
        "\n",
        "print(filtered_df)"
      ],
      "metadata": {
        "colab": {
          "base_uri": "https://localhost:8080/"
        },
        "id": "Jc9lFI7tHGX1",
        "outputId": "d7473b86-8ef2-4a65-9015-96662233119d"
      },
      "execution_count": null,
      "outputs": [
        {
          "output_type": "stream",
          "name": "stdout",
          "text": [
            "                            Name    Status Population_A Population_B Population_C Population_D\n",
            "0                          Burol  Barangay         5937         9526         8260             \n",
            "1                        Burol I  Barangay         6425                                       \n",
            "2                       Burol II  Barangay         4299         4442         4838         6025\n",
            "3                      Burol III  Barangay         5663         8473         9077             \n",
            "4     Datu Esmael (Bago-a-ingud)  Barangay                      9079                      7969\n",
            "5             Emmanuel Bergado I  Barangay         3982         6653         7386         8002\n",
            "6            Emmanuel Bergado II  Barangay         2389         2714         2982         2796\n",
            "7                       Fatima I  Barangay         5542         5855         6291         6782\n",
            "8                      Fatima II  Barangay         3617         3864         4023         4305\n",
            "9                     Fatima III  Barangay         2638         3658         3712         3684\n",
            "10                           H-2  Barangay            0         9182         9477         9306\n",
            "11                    Langkaan I  Barangay         6981                                       \n",
            "13                  Luzviminda I  Barangay         2565         3080         3285         3565\n",
            "14                 Luzviminda II  Barangay         3900         4346         4688         4868\n",
            "15                   Paliparan I  Barangay         2450         5971         7153             \n",
            "16                  Paliparan II  Barangay         8668                                       \n",
            "18                        Sabang  Barangay         7421                                       \n",
            "19                 Saint Peter I  Barangay         1991         2347         2553         2287\n",
            "20                Saint Peter II  Barangay         2091         2238         2462         2471\n",
            "22                    Salitran I  Barangay         3381         3694         5626         5158\n",
            "23                   Salitran II  Barangay         6070         9524                          \n",
            "25                   Salitran IV  Barangay         4165         5984         8643             \n",
            "26                    Sampaloc I  Barangay         4181         5539         6612         7662\n",
            "27                   Sampaloc II  Barangay         6544                                       \n",
            "28                  Sampaloc III  Barangay         2710         8035                          \n",
            "29                   Sampaloc IV  Barangay         7085                                       \n",
            "30                    Sampaloc V  Barangay         3433         3146         3224         3252\n",
            "31                 San Agustin I  Barangay         7671         9523         8471             \n",
            "32                San Agustin II  Barangay         4566         9271                          \n",
            "33               San Agustin III  Barangay         6961                                       \n",
            "34                  San Andres I  Barangay         2889         3132         3173         4259\n",
            "35                 San Andres II  Barangay         2869         3294         3455         3405\n",
            "36        San Antonio De Padua I  Barangay         2695         3052         3110         3407\n",
            "37       San Antonio De Padua II  Barangay         2634         2880         3091         3062\n",
            "38     San Dionisio (Barangay 1)  Barangay         5526         6342         6980         6741\n",
            "39      San Esteban (Barangay 4)  Barangay         5232         4300         4219         4583\n",
            "40               San Francisco I  Barangay         2685         2732         3030         3099\n",
            "41              San Francisco II  Barangay         2772         3288         3495         3363\n",
            "42         San Isidro Labrador I  Barangay         4385         4278         5237         4834\n",
            "43        San Isidro Labrador II  Barangay         1888         2090         2194         2463\n",
            "44                      San Jose  Barangay         6670                      8955             \n",
            "45         San Juan (San Juan I)  Barangay         3212         3521         3612         3667\n",
            "46            San Lorenzo Ruiz I  Barangay         3012         3059         3190         3311\n",
            "47           San Lorenzo Ruiz II  Barangay         2951         3657         4109         4275\n",
            "48                    San Luis I  Barangay         3190         3417         3921         3963\n",
            "49                   San Luis II  Barangay         3439         4042         4524         4336\n",
            "50                  San Manuel I  Barangay         2690         2580         2703         2822\n",
            "51                 San Manuel II  Barangay         2632         2742         3037         2581\n",
            "52                     San Mateo  Barangay         4275         4512         4877         4950\n",
            "53                    San Miguel  Barangay         3692         3661         4240         4118\n",
            "54                 San Miguel II  Barangay         1909         2186         2390         2272\n",
            "55                 San Nicolas I  Barangay         1170         1937         2005         2071\n",
            "56                San Nicolas II  Barangay         2770         4595         4851         4576\n",
            "57  San Roque (Sta. Cristina II)  Barangay         2378         2623         2949         2855\n",
            "58        San Simon (Barangay 7)  Barangay                      7095         6909         6242\n",
            "59              Santa Cristina I  Barangay         2752         3237         3219         3307\n",
            "60             Santa Cristina II  Barangay         2861         3490         3782         3505\n",
            "61                  Santa Cruz I  Barangay         3844         4664         4864         5112\n",
            "62                 Santa Cruz II  Barangay         1981         2222         2323         2138\n",
            "63                      Santa Fe  Barangay         4028         6263         6750         6314\n",
            "64     Santa Lucia (San Juan II)  Barangay         4117         5762         6754         5534\n",
            "65     Santa Maria (Barangay 20)  Barangay         4197         4785         5135         5068\n",
            "66     Santo Cristo (Barangay 3)  Barangay         4179         4380         4635         4551\n",
            "67                  Santo Niño I  Barangay         2325         2693         2847         2859\n",
            "68                 Santo Niño II  Barangay         2169         2566         2736         2737\n",
            "69                Victoria Reyes  Barangay            0                                       \n",
            "70                        Zone I  Barangay         3143         3405         3756         4219\n",
            "71                      Zone I-B  Barangay         3468         4314         6263         5595\n",
            "72                       Zone II  Barangay          853         1104         1258         1677\n",
            "73                      Zone III  Barangay         1348         3206         5168         3821\n",
            "74                       Zone IV  Barangay         2364         2947         3271         3770\n"
          ]
        }
      ]
    },
    {
      "cell_type": "code",
      "source": [
        "# Barangay list of populations greater than 10,000\n",
        "for col in ['Population_A', 'Population_B', 'Population_C', 'Population_D']:\n",
        "    df[col] = df[col].where(df[col] >= 10000, '')\n",
        "\n",
        "# Checks if the values of each columns are all empty strings\n",
        "mask = (df['Population_A'] != '') | \\\n",
        "       (df['Population_B'] != '') | \\\n",
        "       (df['Population_C'] != '') | \\\n",
        "       (df['Population_D'] != '')\n",
        "\n",
        "# Apply the mask to filter the data frame\n",
        "filtered_df = df[mask]\n",
        "\n",
        "print(filtered_df)"
      ],
      "metadata": {
        "colab": {
          "base_uri": "https://localhost:8080/"
        },
        "id": "yLh-XC1jXK7j",
        "outputId": "95845140-c1a4-47a5-b011-2d2e6d80eb56"
      },
      "execution_count": null,
      "outputs": [
        {
          "output_type": "stream",
          "name": "stdout",
          "text": [
            "                          Name    Status Population_A Population_B Population_C Population_D\n",
            "0                        Burol  Barangay                                               11902\n",
            "1                      Burol I  Barangay                     14912        15751        17287\n",
            "3                    Burol III  Barangay                                               10921\n",
            "4   Datu Esmael (Bago-a-ingud)  Barangay        16726                     13112             \n",
            "11                  Langkaan I  Barangay                     13629        21426        26939\n",
            "12                 Langkaan II  Barangay        13861        25350        30197        33651\n",
            "15                 Paliparan I  Barangay                                               10125\n",
            "16                Paliparan II  Barangay                     15233        17881        20804\n",
            "17               Paliparan III  Barangay        41511        59838        68224        72945\n",
            "18                      Sabang  Barangay                     13332        14680        17329\n",
            "21                     Salawag  Barangay        28994        61441        80136        78778\n",
            "23                 Salitran II  Barangay                                  11371        12337\n",
            "24                Salitran III  Barangay        10310        14681        14949        15396\n",
            "25                 Salitran IV  Barangay                                               11819\n",
            "27                 Sampaloc II  Barangay                     10170        14127        18225\n",
            "28                Sampaloc III  Barangay                                  10469        13807\n",
            "29                 Sampaloc IV  Barangay                     35655        39950        41678\n",
            "31               San Agustin I  Barangay                                               11971\n",
            "32              San Agustin II  Barangay                                  10514        11692\n",
            "33             San Agustin III  Barangay                     10046        10204        10178\n",
            "44                    San Jose  Barangay                     10702                     11925\n",
            "58      San Simon (Barangay 7)  Barangay        13598                                       \n",
            "69              Victoria Reyes  Barangay                     14631        14248        13838\n",
            "75                  Dasmariñas      City       379520       575817       659019       703141\n"
          ]
        }
      ]
    }
  ]
}