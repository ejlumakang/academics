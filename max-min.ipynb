{
  "nbformat": 4,
  "nbformat_minor": 0,
  "metadata": {
    "colab": {
      "provenance": [],
      "mount_file_id": "14tgGzW2MLupc5Xp37Tm4cNcgG52dEBxA",
      "authorship_tag": "ABX9TyPVSMXbqT0unoffgYb7LbJC"
    },
    "kernelspec": {
      "name": "python3",
      "display_name": "Python 3"
    },
    "language_info": {
      "name": "python"
    }
  },
  "cells": [
    {
      "cell_type": "code",
      "source": [
        "from google.colab import drive\n",
        "drive.mount('/gdrive')\n",
        "\n",
        "with open('/gdrive/My Drive/Numbers.txt', 'r') as f:\n",
        "    content = f.read()\n",
        "\n",
        "strings = content.split('\\n')\n",
        "\n",
        "integers = []\n",
        "for s in strings:\n",
        "  stripped = s.strip()\n",
        "  if stripped:\n",
        "    integers.append(int(stripped))\n",
        "\n",
        "print(integers)\n",
        "\n",
        "min_num = min(integers)\n",
        "max_num = max(integers)\n",
        "total = sum(integers)\n",
        "length = len(integers)\n",
        "\n",
        "print(\"Minimum number:\", min_num)\n",
        "print(\"Maximum number:\", max_num)\n",
        "print(\"Total:\", total)\n",
        "print(\"Length of the list:\", length)\n"
      ],
      "metadata": {
        "colab": {
          "base_uri": "https://localhost:8080/"
        },
        "id": "8CR0-RhRS4Lv",
        "outputId": "7ad1997e-31ef-4b51-a50d-89742de50c7c"
      },
      "execution_count": null,
      "outputs": [
        {
          "output_type": "stream",
          "name": "stdout",
          "text": [
            "Drive already mounted at /gdrive; to attempt to forcibly remount, call drive.mount(\"/gdrive\", force_remount=True).\n",
            "[55, 69, 90, 88, 75, 53, 60, 89, 99, 80]\n",
            "Minimum number: 53\n",
            "Maximum number: 99\n",
            "Total: 758\n",
            "Length of the list: 10\n"
          ]
        }
      ]
    }
  ]
}