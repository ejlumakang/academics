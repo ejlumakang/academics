{
  "nbformat": 4,
  "nbformat_minor": 0,
  "metadata": {
    "colab": {
      "provenance": [],
      "mount_file_id": "1mLMGgMVpAGhbKWjsFj66RxIVy2mD-Sdr",
      "authorship_tag": "ABX9TyP+16fZHWR8q+TsIXnQMpd2"
    },
    "kernelspec": {
      "name": "python3",
      "display_name": "Python 3"
    },
    "language_info": {
      "name": "python"
    }
  },
  "cells": [
    {
      "cell_type": "code",
      "execution_count": null,
      "metadata": {
        "colab": {
          "base_uri": "https://localhost:8080/"
        },
        "id": "nVBRCZo30V3J",
        "outputId": "db66d9c7-48a1-4772-8fb9-b74694285a77"
      },
      "outputs": [
        {
          "output_type": "stream",
          "name": "stdout",
          "text": [
            "Mounted at /gdrive\n",
            "In the season of blue that seemed to go on forever\n",
            "Nothing obstructed the view of the four lined eyes\n",
            "The asphalt ground was echoing the chorus of cicadas\n",
            "It prevented me from hearing the silence of you\n",
            "\n",
            "Those days faded away\n",
            "Even after I got to know the smell of you, different from mine\n",
            "\n",
            "In the depths of eternity that left behind\n",
            "Our blue still lives\n",
            "Our blue is still clear\n",
            "No prayer or word could ever reach you\n",
            "No matter how close they could get to you\n",
            "\n",
            "In such a color as if it were a silent love\n",
            "Or as if it were a summer rolling down a cheek\n",
            "I've got a curse word for you stuck in the back of my throat\n",
            "It is the unvoiced voice that says\n",
            "\"We'll see each other again, won't we?\"\n",
            "\n",
            "Like star grains in an infinitely expanding galaxy\n",
            "Spilling through the gaps between my fingers\n",
            "\n",
            "Title: Where Our Blue is\n",
            "Artist: Tatsuya Kitani\n",
            "Blue count: 3\n"
          ]
        }
      ],
      "source": [
        "from google.colab import drive\n",
        "drive.mount('/gdrive')\n",
        "\n",
        "def count_blue(file):\n",
        "  with open('/gdrive/MyDrive/Colab Notebooks/app dev/txt files/lyrics(3).txt', 'r') as f:\n",
        "    content = f.read()\n",
        "\n",
        "  blue_count = content.lower().count('blue')\n",
        "\n",
        "  print(content)\n",
        "  print('\\nTitle: Where Our Blue is')\n",
        "  print('Artist: Tatsuya Kitani')\n",
        "  print('Blue count:', blue_count)\n",
        "\n",
        "count_blue(\"lyrics(3).txt\")"
      ]
    }
  ]
}