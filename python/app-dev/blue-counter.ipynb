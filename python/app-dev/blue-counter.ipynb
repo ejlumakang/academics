{
  "nbformat": 4,
  "nbformat_minor": 0,
  "metadata": {
    "colab": {
      "provenance": [],
      "authorship_tag": "ABX9TyMQ9WJRXXkNq0QwwAHvbMRr"
    },
    "kernelspec": {
      "name": "python3",
      "display_name": "Python 3"
    },
    "language_info": {
      "name": "python"
    }
  },
  "cells": [
    {
      "cell_type": "code",
      "execution_count": null,
      "metadata": {
        "colab": {
          "base_uri": "https://localhost:8080/"
        },
        "id": "UhS5_nWsDC1D",
        "outputId": "2a4c91dd-9f32-47e5-81ae-3eb454febc66"
      },
      "outputs": [
        {
          "output_type": "stream",
          "name": "stdout",
          "text": [
            "Drive already mounted at /gdrive; to attempt to forcibly remount, call drive.mount(\"/gdrive\", force_remount=True).\n",
            "In the season of blue that seemed to go on forever\n",
            "Nothing obstructed the view of the four lined eyes\n",
            "The asphalt ground was echoing the chorus of cicadas\n",
            "It prevented me from hearing the silence of you\n",
            "\n",
            "Those days faded away\n",
            "Even after I got to know the smell of you, different from mine\n",
            "\n",
            "In the depths of eternity that left behind\n",
            "Our blue still lives\n",
            "Our blue is still clear\n",
            "No prayer or word could ever reach you\n",
            "No matter how close they could get to you\n",
            "\n",
            "In such a color as if it were a silent love\n",
            "Or as if it were a summer rolling down a cheek\n",
            "I've got a curse word for you stuck in the back of my throat\n",
            "It is the unvoiced voice that says\n",
            "\"We'll see each other again, won't we?\"\n",
            "\n",
            "Like star grains in an infinitely expanding galaxy\n",
            "Spilling through the gaps between my fingers\n",
            "\n",
            "Title: Where Our Blue is\n",
            "Artist: Tatsuya Kitani\n",
            "'Blue' count: 3\n"
          ]
        }
      ],
      "source": [
        "from google.colab import drive\n",
        "drive.mount('/gdrive')\n",
        "\n",
        "with open('/gdrive/My Drive/lyrics(3).txt', 'r') as f:\n",
        "  content = f.read()\n",
        "\n",
        "words = content.split()\n",
        "\n",
        "count = 0\n",
        "\n",
        "for word in words:\n",
        "  if word.lower() == 'blue':\n",
        "    count += 1\n",
        "\n",
        "print(content)\n",
        "print(\"\\nTitle: Where Our Blue is\")\n",
        "print(\"Artist: Tatsuya Kitani\")\n",
        "print(\"'Blue' count:\", count)"
      ]
    }
  ]
}