{
  "nbformat": 4,
  "nbformat_minor": 0,
  "metadata": {
    "colab": {
      "provenance": [],
      "toc_visible": true,
      "authorship_tag": "ABX9TyNBDQEPFTM/13zMvVc3ustY"
    },
    "kernelspec": {
      "name": "python3",
      "display_name": "Python 3"
    },
    "language_info": {
      "name": "python"
    }
  },
  "cells": [
    {
      "cell_type": "code",
      "execution_count": null,
      "metadata": {
        "colab": {
          "base_uri": "https://localhost:8080/"
        },
        "id": "n00x_iFcKdYg",
        "outputId": "55419557-ee16-4d33-ecf5-9b3a0b9a04e6"
      },
      "outputs": [
        {
          "output_type": "stream",
          "name": "stdout",
          "text": [
            "Drive already mounted at /gdrive; to attempt to forcibly remount, call drive.mount(\"/gdrive\", force_remount=True).\n",
            "\n",
            "Word Frequencies:\n",
            "-------------------\n",
            "i : 2\n",
            "think : 1\n",
            "that : 3\n",
            "shall : 1\n",
            "never : 1\n",
            "see : 1\n",
            "a : 7\n",
            "poem : 1\n",
            "lovely : 1\n",
            "as : 1\n",
            "tree : 5\n",
            "whose : 2\n",
            "hungry : 1\n",
            "mouth : 1\n",
            "is : 1\n",
            "prest : 1\n",
            "against : 1\n",
            "the : 1\n",
            "earths : 1\n",
            "sweet : 1\n",
            "flowing : 1\n",
            "breast : 1\n",
            "looks : 1\n",
            "at : 1\n",
            "god : 2\n",
            "all : 1\n",
            "day : 1\n",
            "and : 1\n",
            "lifts : 1\n",
            "her : 2\n",
            "leafy : 1\n",
            "arms : 1\n",
            "to : 1\n",
            "pray : 1\n",
            "may : 1\n",
            "in : 2\n",
            "summer : 1\n",
            "wear : 1\n",
            "nest : 1\n",
            "of : 1\n",
            "robins : 1\n",
            "hair : 1\n",
            "upon : 1\n",
            "bosom : 1\n",
            "snow : 1\n",
            "has : 1\n",
            "lain : 1\n",
            "who : 1\n",
            "intimately : 1\n",
            "lives : 1\n",
            "with : 1\n",
            "rain : 1\n",
            "poems : 1\n",
            "are : 1\n",
            "made : 1\n",
            "by : 1\n",
            "fools : 1\n",
            "like : 1\n",
            "me : 1\n",
            "but : 1\n",
            "only : 1\n",
            "can : 1\n",
            "make : 1\n"
          ]
        }
      ],
      "source": [
        "from google.colab import drive\n",
        "drive.mount('/gdrive')\n",
        "\n",
        "with open('/gdrive/My Drive/Trees(2).txt', 'r') as f:\n",
        "    content = f.read()\n",
        "\n",
        "c = content.replace(\".\", \"\").replace(\";\", \"\").replace(\",\", \"\").replace(\"'\", \"\")\n",
        "words = c.lower().split()\n",
        "\n",
        "freq = {} # create empty dictionary\n",
        "for w in words: # iterate each word in the list of words\n",
        "  if w not in freq: # if the word is not already in the dictionary\n",
        "    freq[w] = 1 # if not, initialize frequency count to 1\n",
        "  else:\n",
        "    freq[w] += 1 # if it is, increment frequency count by 1\n",
        "\n",
        "print(\"\\nWord Frequencies:\")\n",
        "print(\"-------------------\")\n",
        "\n",
        "for word, frequency in freq.items():\n",
        "  print(f\"{word} : {frequency}\")"
      ]
    },
    {
      "cell_type": "code",
      "source": [],
      "metadata": {
        "id": "C13GfqfHOOMM"
      },
      "execution_count": null,
      "outputs": []
    }
  ]
}