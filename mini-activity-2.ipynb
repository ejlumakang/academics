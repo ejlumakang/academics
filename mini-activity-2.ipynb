{
  "nbformat": 4,
  "nbformat_minor": 0,
  "metadata": {
    "colab": {
      "provenance": [],
      "authorship_tag": "ABX9TyNyr4WkhnRHv7mwx9yvXH2J",
      "include_colab_link": true
    },
    "kernelspec": {
      "name": "python3",
      "display_name": "Python 3"
    },
    "language_info": {
      "name": "python"
    }
  },
  "cells": [
    {
      "cell_type": "markdown",
      "metadata": {
        "id": "view-in-github",
        "colab_type": "text"
      },
      "source": [
        "<a href=\"https://colab.research.google.com/github/ejlumakang/academics/blob/main/mini-activity-2.ipynb\" target=\"_parent\"><img src=\"https://colab.research.google.com/assets/colab-badge.svg\" alt=\"Open In Colab\"/></a>"
      ]
    },
    {
      "cell_type": "code",
      "execution_count": null,
      "metadata": {
        "colab": {
          "base_uri": "https://localhost:8080/"
        },
        "id": "wU7mDece2TLI",
        "outputId": "5029fc3b-53e6-4361-d436-b94d209dcb88"
      },
      "outputs": [
        {
          "output_type": "stream",
          "name": "stdout",
          "text": [
            "Enter a word or phrase: i love\n",
            "Autocomplete suggestion:  I love Math.\n",
            "Autocomplete suggestion:  I love Math. I\n",
            "Autocomplete suggestion:  I love Math. I love\n",
            "Autocomplete suggestion:  I love Math. I love Math.\n",
            "Autocomplete suggestion:  I love Math. I love Math. I\n",
            "Autocomplete suggestion:  I love Math. I love Math. I love\n",
            "Autocomplete suggestion:  I love Math. I love Math. I love Math.\n",
            "Autocomplete suggestion:  I love Math. I love Math. I love Math. I\n",
            "Autocomplete suggestion:  I love Math. I love Math. I love Math. I love\n",
            "Autocomplete suggestion:  I love Math. I love Math. I love Math. I love natural\n"
          ]
        }
      ],
      "source": [
        "import random\n",
        "from collections import defaultdict\n",
        "\n",
        "# sample text\n",
        "text = \"I love Math. I love natural language process\"\n",
        "\n",
        "# create bi-gram model\n",
        "n = 2\n",
        "ngrams = defaultdict(list)\n",
        "words = text.split()\n",
        "\n",
        "for i in range(len(words) - n + 1):\n",
        "  gram = tuple(words[i:i+n])\n",
        "  next_word = words[i+n] if i+n < len(words) else None\n",
        "  if next_word:\n",
        "    ngrams[gram].append(next_word)\n",
        "\n",
        "# get user input\n",
        "user_input = input(\"Enter a word or phrase: \")\n",
        "input_words = user_input.split()\n",
        "\n",
        "# find matching grams\n",
        "matching_grams = [gram for gram in ngrams if gram[-1] == input_words[-1]]\n",
        "\n",
        "if matching_grams:\n",
        "  current_gram = random.choice(matching_grams)\n",
        "  result = list(current_gram)\n",
        "\n",
        "  for _ in range(10):\n",
        "    if current_gram in ngrams and ngrams[current_gram]:\n",
        "      next_word = random.choice(ngrams[current_gram])\n",
        "      result.append(next_word)\n",
        "      current_gram = tuple(result[-n:])\n",
        "    else:\n",
        "      break\n",
        "\n",
        "    print(\"Autocomplete suggestion: \", \" \".join(result))\n",
        "else:\n",
        "  print(\"No matching grams found\")\n",
        "\n"
      ]
    },
    {
      "cell_type": "code",
      "source": [
        "import random\n",
        "from collections import defaultdict\n",
        "\n",
        "# Sample text for n-gram generation\n",
        "text1 = \"The quick brown fox jumps over the lazy dog.\"\n",
        "text2 = \"Data science is an interdisciplinary field that uses scientific methods.\"\n",
        "\n",
        "# Create an n-gram model\n",
        "ngrams = defaultdict(list)\n",
        "\n",
        "# Function to create ngrams from sample texts\n",
        "def create_ngrams(text, n):\n",
        "    words = text.split()\n",
        "    for i in range(len(words) - n):\n",
        "        gram = tuple(words[i:i+n])\n",
        "        next_word = words[i+n] if i+n < len(words) else None\n",
        "        if next_word:  # Only add next_word if it's not None\n",
        "            ngrams[gram].append(next_word)\n",
        "\n",
        "# Get user input\n",
        "user_input = input(\"Enter a word or phrase: \")\n",
        "input_words = user_input.split()\n",
        "\n",
        "# Determine the n-gram size based on the number of input words\n",
        "word_length = len(input_words)\n",
        "if word_length >= 4:\n",
        "    n = 4\n",
        "elif word_length == 3:\n",
        "    n = 3\n",
        "else:\n",
        "    n = 2\n",
        "\n",
        "# Create n-grams with the determined n value\n",
        "create_ngrams(text1, n)\n",
        "create_ngrams(text2, n)\n",
        "\n",
        "# Find matching grams\n",
        "matching_grams = [gram for gram in ngrams if gram[-(n-1):] == tuple(input_words[-(n-1):]) and len(input_words) > 1]\n",
        "\n",
        "if matching_grams:\n",
        "    current_gram = random.choice(matching_grams)\n",
        "    result = list(current_gram)\n",
        "\n",
        "    # Autocomplete suggestions\n",
        "    for _ in range(10):\n",
        "        if current_gram in ngrams and ngrams[current_gram]:\n",
        "            next_word = random.choice(ngrams[current_gram])\n",
        "            result.append(next_word)\n",
        "            current_gram = tuple(result[-n:])\n",
        "        else:\n",
        "            break\n",
        "\n",
        "    print(\"Autocomplete suggestion:\", \" \".join(result))\n",
        "else:\n",
        "    print(\"No matching grams found\")\n"
      ],
      "metadata": {
        "colab": {
          "base_uri": "https://localhost:8080/"
        },
        "id": "TZXRfbQjcpfR",
        "outputId": "3d0f5a6b-aa53-409f-ea97-7c5ea7378b56"
      },
      "execution_count": null,
      "outputs": [
        {
          "output_type": "stream",
          "name": "stdout",
          "text": [
            "Enter a word or phrase: quick brown\n",
            "Autocomplete suggestion: quick brown fox jumps over the lazy dog.\n"
          ]
        }
      ]
    }
  ]
}