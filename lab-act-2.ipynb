{
  "nbformat": 4,
  "nbformat_minor": 0,
  "metadata": {
    "colab": {
      "provenance": [],
      "authorship_tag": "ABX9TyODEhRpRDYJ18AH4h8kUo//"
    },
    "kernelspec": {
      "name": "python3",
      "display_name": "Python 3"
    },
    "language_info": {
      "name": "python"
    }
  },
  "cells": [
    {
      "cell_type": "code",
      "source": [
        "word_probabilities = {\n",
        "    'the': 0.2,\n",
        "    'cat': {'the': 0.5, 'a': 0.5},\n",
        "    'sat': {'the cat': 0.6, 'a cat': 0.4},\n",
        "    'on': {'the cat sat': 0.8, 'a cat sat': 0.2},\n",
        "    'mat': {'on the': 0.8, 'on a': 0.2},\n",
        "}\n",
        "\n",
        "def predict_next_word(context):\n",
        "    for word, value in word_probabilities.items():\n",
        "        if isinstance(value, dict) and context in value:\n",
        "            return word\n",
        "\n",
        "    return None\n",
        "\n",
        "while True:\n",
        "    context = input(\"Enter a phrase: \").lower()\n",
        "    predicted_word = predict_next_word(context)\n",
        "\n",
        "    print(f'Predicted next word after \"{context}\": {predicted_word}')\n",
        "\n",
        "    response = input(\"Try Again? (Y/N): \").lower()\n",
        "    if response != 'y':\n",
        "        break"
      ],
      "metadata": {
        "colab": {
          "base_uri": "https://localhost:8080/"
        },
        "id": "zxi2hW3kzgv_",
        "outputId": "ba16d7de-5c8c-4e96-d5e0-032312645032"
      },
      "execution_count": null,
      "outputs": [
        {
          "name": "stdout",
          "output_type": "stream",
          "text": [
            "Enter a phrase: the cat sat\n",
            "Predicted next word after \"the cat sat\": on\n",
            "Try Again? (Y/N): y\n",
            "Enter a phrase: the cat\n",
            "Predicted next word after \"the cat\": sat\n",
            "Try Again? (Y/N): n\n"
          ]
        }
      ]
    }
  ]
}